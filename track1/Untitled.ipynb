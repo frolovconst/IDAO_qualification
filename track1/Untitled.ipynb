{
 "cells": [
  {
   "cell_type": "code",
   "execution_count": 1,
   "metadata": {},
   "outputs": [],
   "source": [
    "import pandas as pd\n",
    "import numpy as np\n",
    "import matplotlib.pyplot as plt\n",
    "import lightgbm as lgb\n",
    "%matplotlib inline\n",
    "import swifter\n",
    "from tqdm import tqdm\n",
    "import utils\n",
    "from sklearn.model_selection import train_test_split\n",
    "from scoring import rejection90\n",
    "import scoring\n",
    "import xgboost as xgb"
   ]
  },
  {
   "cell_type": "code",
   "execution_count": 11,
   "metadata": {},
   "outputs": [],
   "source": [
    "lengths = [10,20,40,50,60,15,14,13]"
   ]
  },
  {
   "cell_type": "code",
   "execution_count": 12,
   "metadata": {},
   "outputs": [],
   "source": [
    "bins = np.digitize(lengths,[np.percentile(a,i) for i in range(10,100,10)])"
   ]
  },
  {
   "cell_type": "code",
   "execution_count": 13,
   "metadata": {},
   "outputs": [
    {
     "data": {
      "text/plain": [
       "array([0, 5, 7, 8, 9, 4, 2, 1])"
      ]
     },
     "execution_count": 13,
     "metadata": {},
     "output_type": "execute_result"
    }
   ],
   "source": [
    "bins"
   ]
  },
  {
   "cell_type": "code",
   "execution_count": 2,
   "metadata": {},
   "outputs": [
    {
     "ename": "ValueError",
     "evalue": "cannot set WRITEABLE flag to True of this array",
     "output_type": "error",
     "traceback": [
      "\u001b[0;31m---------------------------------------------------------------------------\u001b[0m",
      "\u001b[0;31mValueError\u001b[0m                                Traceback (most recent call last)",
      "\u001b[0;32m<ipython-input-2-acedcf6c8746>\u001b[0m in \u001b[0;36m<module>\u001b[0;34m\u001b[0m\n\u001b[0;32m----> 1\u001b[0;31m \u001b[0mdf\u001b[0m \u001b[0;34m=\u001b[0m \u001b[0mutils\u001b[0m\u001b[0;34m.\u001b[0m\u001b[0mload_train_hdf\u001b[0m\u001b[0;34m(\u001b[0m\u001b[0;34m'./'\u001b[0m\u001b[0;34m)\u001b[0m\u001b[0;34m\u001b[0m\u001b[0m\n\u001b[0m\u001b[1;32m      2\u001b[0m \u001b[0mdf\u001b[0m\u001b[0;34m.\u001b[0m\u001b[0mhead\u001b[0m\u001b[0;34m(\u001b[0m\u001b[0;34m)\u001b[0m\u001b[0;34m\u001b[0m\u001b[0m\n",
      "\u001b[0;32m~/DOA/utils.py\u001b[0m in \u001b[0;36mload_train_hdf\u001b[0;34m(path)\u001b[0m\n\u001b[1;32m     45\u001b[0m     return pd.concat([\n\u001b[1;32m     46\u001b[0m         \u001b[0mpd\u001b[0m\u001b[0;34m.\u001b[0m\u001b[0mread_hdf\u001b[0m\u001b[0;34m(\u001b[0m\u001b[0mos\u001b[0m\u001b[0;34m.\u001b[0m\u001b[0mpath\u001b[0m\u001b[0;34m.\u001b[0m\u001b[0mjoin\u001b[0m\u001b[0;34m(\u001b[0m\u001b[0mpath\u001b[0m\u001b[0;34m,\u001b[0m \u001b[0;34m\"train_part_%i_%s.hdf\"\u001b[0m \u001b[0;34m%\u001b[0m \u001b[0;34m(\u001b[0m\u001b[0mi\u001b[0m\u001b[0;34m,\u001b[0m \u001b[0mVERSION\u001b[0m\u001b[0;34m)\u001b[0m\u001b[0;34m)\u001b[0m\u001b[0;34m)\u001b[0m\u001b[0;34m\u001b[0m\u001b[0m\n\u001b[0;32m---> 47\u001b[0;31m         for i in (1, 2)], axis=0, ignore_index=True)\n\u001b[0m\u001b[1;32m     48\u001b[0m \u001b[0;34m\u001b[0m\u001b[0m\n\u001b[1;32m     49\u001b[0m \u001b[0;34m\u001b[0m\u001b[0m\n",
      "\u001b[0;32m~/DOA/utils.py\u001b[0m in \u001b[0;36m<listcomp>\u001b[0;34m(.0)\u001b[0m\n\u001b[1;32m     45\u001b[0m     return pd.concat([\n\u001b[1;32m     46\u001b[0m         \u001b[0mpd\u001b[0m\u001b[0;34m.\u001b[0m\u001b[0mread_hdf\u001b[0m\u001b[0;34m(\u001b[0m\u001b[0mos\u001b[0m\u001b[0;34m.\u001b[0m\u001b[0mpath\u001b[0m\u001b[0;34m.\u001b[0m\u001b[0mjoin\u001b[0m\u001b[0;34m(\u001b[0m\u001b[0mpath\u001b[0m\u001b[0;34m,\u001b[0m \u001b[0;34m\"train_part_%i_%s.hdf\"\u001b[0m \u001b[0;34m%\u001b[0m \u001b[0;34m(\u001b[0m\u001b[0mi\u001b[0m\u001b[0;34m,\u001b[0m \u001b[0mVERSION\u001b[0m\u001b[0;34m)\u001b[0m\u001b[0;34m)\u001b[0m\u001b[0;34m)\u001b[0m\u001b[0;34m\u001b[0m\u001b[0m\n\u001b[0;32m---> 47\u001b[0;31m         for i in (1, 2)], axis=0, ignore_index=True)\n\u001b[0m\u001b[1;32m     48\u001b[0m \u001b[0;34m\u001b[0m\u001b[0m\n\u001b[1;32m     49\u001b[0m \u001b[0;34m\u001b[0m\u001b[0m\n",
      "\u001b[0;32m~/.local/lib/python3.5/site-packages/pandas/io/pytables.py\u001b[0m in \u001b[0;36mread_hdf\u001b[0;34m(path_or_buf, key, mode, **kwargs)\u001b[0m\n\u001b[1;32m    387\u001b[0m                                      'contains multiple datasets.')\n\u001b[1;32m    388\u001b[0m             \u001b[0mkey\u001b[0m \u001b[0;34m=\u001b[0m \u001b[0mcandidate_only_group\u001b[0m\u001b[0;34m.\u001b[0m\u001b[0m_v_pathname\u001b[0m\u001b[0;34m\u001b[0m\u001b[0m\n\u001b[0;32m--> 389\u001b[0;31m         \u001b[0;32mreturn\u001b[0m \u001b[0mstore\u001b[0m\u001b[0;34m.\u001b[0m\u001b[0mselect\u001b[0m\u001b[0;34m(\u001b[0m\u001b[0mkey\u001b[0m\u001b[0;34m,\u001b[0m \u001b[0mauto_close\u001b[0m\u001b[0;34m=\u001b[0m\u001b[0mauto_close\u001b[0m\u001b[0;34m,\u001b[0m \u001b[0;34m**\u001b[0m\u001b[0mkwargs\u001b[0m\u001b[0;34m)\u001b[0m\u001b[0;34m\u001b[0m\u001b[0m\n\u001b[0m\u001b[1;32m    390\u001b[0m     \u001b[0;32mexcept\u001b[0m \u001b[0;34m(\u001b[0m\u001b[0mValueError\u001b[0m\u001b[0;34m,\u001b[0m \u001b[0mTypeError\u001b[0m\u001b[0;34m)\u001b[0m\u001b[0;34m:\u001b[0m\u001b[0;34m\u001b[0m\u001b[0m\n\u001b[1;32m    391\u001b[0m         \u001b[0;31m# if there is an error, close the store\u001b[0m\u001b[0;34m\u001b[0m\u001b[0;34m\u001b[0m\u001b[0m\n",
      "\u001b[0;32m~/.local/lib/python3.5/site-packages/pandas/io/pytables.py\u001b[0m in \u001b[0;36mselect\u001b[0;34m(self, key, where, start, stop, columns, iterator, chunksize, auto_close, **kwargs)\u001b[0m\n\u001b[1;32m    738\u001b[0m                            chunksize=chunksize, auto_close=auto_close)\n\u001b[1;32m    739\u001b[0m \u001b[0;34m\u001b[0m\u001b[0m\n\u001b[0;32m--> 740\u001b[0;31m         \u001b[0;32mreturn\u001b[0m \u001b[0mit\u001b[0m\u001b[0;34m.\u001b[0m\u001b[0mget_result\u001b[0m\u001b[0;34m(\u001b[0m\u001b[0;34m)\u001b[0m\u001b[0;34m\u001b[0m\u001b[0m\n\u001b[0m\u001b[1;32m    741\u001b[0m \u001b[0;34m\u001b[0m\u001b[0m\n\u001b[1;32m    742\u001b[0m     def select_as_coordinates(\n",
      "\u001b[0;32m~/.local/lib/python3.5/site-packages/pandas/io/pytables.py\u001b[0m in \u001b[0;36mget_result\u001b[0;34m(self, coordinates)\u001b[0m\n\u001b[1;32m   1516\u001b[0m \u001b[0;34m\u001b[0m\u001b[0m\n\u001b[1;32m   1517\u001b[0m         \u001b[0;31m# directly return the result\u001b[0m\u001b[0;34m\u001b[0m\u001b[0;34m\u001b[0m\u001b[0m\n\u001b[0;32m-> 1518\u001b[0;31m         \u001b[0mresults\u001b[0m \u001b[0;34m=\u001b[0m \u001b[0mself\u001b[0m\u001b[0;34m.\u001b[0m\u001b[0mfunc\u001b[0m\u001b[0;34m(\u001b[0m\u001b[0mself\u001b[0m\u001b[0;34m.\u001b[0m\u001b[0mstart\u001b[0m\u001b[0;34m,\u001b[0m \u001b[0mself\u001b[0m\u001b[0;34m.\u001b[0m\u001b[0mstop\u001b[0m\u001b[0;34m,\u001b[0m \u001b[0mwhere\u001b[0m\u001b[0;34m)\u001b[0m\u001b[0;34m\u001b[0m\u001b[0m\n\u001b[0m\u001b[1;32m   1519\u001b[0m         \u001b[0mself\u001b[0m\u001b[0;34m.\u001b[0m\u001b[0mclose\u001b[0m\u001b[0;34m(\u001b[0m\u001b[0;34m)\u001b[0m\u001b[0;34m\u001b[0m\u001b[0m\n\u001b[1;32m   1520\u001b[0m         \u001b[0;32mreturn\u001b[0m \u001b[0mresults\u001b[0m\u001b[0;34m\u001b[0m\u001b[0m\n",
      "\u001b[0;32m~/.local/lib/python3.5/site-packages/pandas/io/pytables.py\u001b[0m in \u001b[0;36mfunc\u001b[0;34m(_start, _stop, _where)\u001b[0m\n\u001b[1;32m    731\u001b[0m             return s.read(start=_start, stop=_stop,\n\u001b[1;32m    732\u001b[0m                           \u001b[0mwhere\u001b[0m\u001b[0;34m=\u001b[0m\u001b[0m_where\u001b[0m\u001b[0;34m,\u001b[0m\u001b[0;34m\u001b[0m\u001b[0m\n\u001b[0;32m--> 733\u001b[0;31m                           columns=columns)\n\u001b[0m\u001b[1;32m    734\u001b[0m \u001b[0;34m\u001b[0m\u001b[0m\n\u001b[1;32m    735\u001b[0m         \u001b[0;31m# create the iterator\u001b[0m\u001b[0;34m\u001b[0m\u001b[0;34m\u001b[0m\u001b[0m\n",
      "\u001b[0;32m~/.local/lib/python3.5/site-packages/pandas/io/pytables.py\u001b[0m in \u001b[0;36mread\u001b[0;34m(self, start, stop, **kwargs)\u001b[0m\n\u001b[1;32m   2993\u001b[0m             \u001b[0mblk_items\u001b[0m \u001b[0;34m=\u001b[0m \u001b[0mself\u001b[0m\u001b[0;34m.\u001b[0m\u001b[0mread_index\u001b[0m\u001b[0;34m(\u001b[0m\u001b[0;34m'block{idx}_items'\u001b[0m\u001b[0;34m.\u001b[0m\u001b[0mformat\u001b[0m\u001b[0;34m(\u001b[0m\u001b[0midx\u001b[0m\u001b[0;34m=\u001b[0m\u001b[0mi\u001b[0m\u001b[0;34m)\u001b[0m\u001b[0;34m)\u001b[0m\u001b[0;34m\u001b[0m\u001b[0m\n\u001b[1;32m   2994\u001b[0m             values = self.read_array('block{idx}_values'.format(idx=i),\n\u001b[0;32m-> 2995\u001b[0;31m                                      start=_start, stop=_stop)\n\u001b[0m\u001b[1;32m   2996\u001b[0m             blk = make_block(values,\n\u001b[1;32m   2997\u001b[0m                              placement=items.get_indexer(blk_items))\n",
      "\u001b[0;32m~/.local/lib/python3.5/site-packages/pandas/io/pytables.py\u001b[0m in \u001b[0;36mread_array\u001b[0;34m(self, key, start, stop)\u001b[0m\n\u001b[1;32m   2538\u001b[0m \u001b[0;34m\u001b[0m\u001b[0m\n\u001b[1;32m   2539\u001b[0m         \u001b[0;32mif\u001b[0m \u001b[0misinstance\u001b[0m\u001b[0;34m(\u001b[0m\u001b[0mnode\u001b[0m\u001b[0;34m,\u001b[0m \u001b[0mtables\u001b[0m\u001b[0;34m.\u001b[0m\u001b[0mVLArray\u001b[0m\u001b[0;34m)\u001b[0m\u001b[0;34m:\u001b[0m\u001b[0;34m\u001b[0m\u001b[0m\n\u001b[0;32m-> 2540\u001b[0;31m             \u001b[0mret\u001b[0m \u001b[0;34m=\u001b[0m \u001b[0mnode\u001b[0m\u001b[0;34m[\u001b[0m\u001b[0;36m0\u001b[0m\u001b[0;34m]\u001b[0m\u001b[0;34m[\u001b[0m\u001b[0mstart\u001b[0m\u001b[0;34m:\u001b[0m\u001b[0mstop\u001b[0m\u001b[0;34m]\u001b[0m\u001b[0;34m\u001b[0m\u001b[0m\n\u001b[0m\u001b[1;32m   2541\u001b[0m         \u001b[0;32melse\u001b[0m\u001b[0;34m:\u001b[0m\u001b[0;34m\u001b[0m\u001b[0m\n\u001b[1;32m   2542\u001b[0m             \u001b[0mdtype\u001b[0m \u001b[0;34m=\u001b[0m \u001b[0mgetattr\u001b[0m\u001b[0;34m(\u001b[0m\u001b[0mattrs\u001b[0m\u001b[0;34m,\u001b[0m \u001b[0;34m'value_type'\u001b[0m\u001b[0;34m,\u001b[0m \u001b[0;32mNone\u001b[0m\u001b[0;34m)\u001b[0m\u001b[0;34m\u001b[0m\u001b[0m\n",
      "\u001b[0;32m~/.local/lib/python3.5/site-packages/tables/vlarray.py\u001b[0m in \u001b[0;36m__getitem__\u001b[0;34m(self, key)\u001b[0m\n\u001b[1;32m    679\u001b[0m                 \u001b[0mkey\u001b[0m \u001b[0;34m+=\u001b[0m \u001b[0mself\u001b[0m\u001b[0;34m.\u001b[0m\u001b[0mnrows\u001b[0m\u001b[0;34m\u001b[0m\u001b[0m\n\u001b[1;32m    680\u001b[0m             \u001b[0;34m(\u001b[0m\u001b[0mstart\u001b[0m\u001b[0;34m,\u001b[0m \u001b[0mstop\u001b[0m\u001b[0;34m,\u001b[0m \u001b[0mstep\u001b[0m\u001b[0;34m)\u001b[0m \u001b[0;34m=\u001b[0m \u001b[0mself\u001b[0m\u001b[0;34m.\u001b[0m\u001b[0m_process_range\u001b[0m\u001b[0;34m(\u001b[0m\u001b[0mkey\u001b[0m\u001b[0;34m,\u001b[0m \u001b[0mkey\u001b[0m \u001b[0;34m+\u001b[0m \u001b[0;36m1\u001b[0m\u001b[0;34m,\u001b[0m \u001b[0;36m1\u001b[0m\u001b[0;34m)\u001b[0m\u001b[0;34m\u001b[0m\u001b[0m\n\u001b[0;32m--> 681\u001b[0;31m             \u001b[0;32mreturn\u001b[0m \u001b[0mself\u001b[0m\u001b[0;34m.\u001b[0m\u001b[0mread\u001b[0m\u001b[0;34m(\u001b[0m\u001b[0mstart\u001b[0m\u001b[0;34m,\u001b[0m \u001b[0mstop\u001b[0m\u001b[0;34m,\u001b[0m \u001b[0mstep\u001b[0m\u001b[0;34m)\u001b[0m\u001b[0;34m[\u001b[0m\u001b[0;36m0\u001b[0m\u001b[0;34m]\u001b[0m\u001b[0;34m\u001b[0m\u001b[0m\n\u001b[0m\u001b[1;32m    682\u001b[0m         \u001b[0;32melif\u001b[0m \u001b[0misinstance\u001b[0m\u001b[0;34m(\u001b[0m\u001b[0mkey\u001b[0m\u001b[0;34m,\u001b[0m \u001b[0mslice\u001b[0m\u001b[0;34m)\u001b[0m\u001b[0;34m:\u001b[0m\u001b[0;34m\u001b[0m\u001b[0m\n\u001b[1;32m    683\u001b[0m             start, stop, step = self._process_range(\n",
      "\u001b[0;32m~/.local/lib/python3.5/site-packages/tables/vlarray.py\u001b[0m in \u001b[0;36mread\u001b[0;34m(self, start, stop, step)\u001b[0m\n\u001b[1;32m    819\u001b[0m             \u001b[0mlistarr\u001b[0m \u001b[0;34m=\u001b[0m \u001b[0;34m[\u001b[0m\u001b[0;34m]\u001b[0m\u001b[0;34m\u001b[0m\u001b[0m\n\u001b[1;32m    820\u001b[0m         \u001b[0;32melse\u001b[0m\u001b[0;34m:\u001b[0m\u001b[0;34m\u001b[0m\u001b[0m\n\u001b[0;32m--> 821\u001b[0;31m             \u001b[0mlistarr\u001b[0m \u001b[0;34m=\u001b[0m \u001b[0mself\u001b[0m\u001b[0;34m.\u001b[0m\u001b[0m_read_array\u001b[0m\u001b[0;34m(\u001b[0m\u001b[0mstart\u001b[0m\u001b[0;34m,\u001b[0m \u001b[0mstop\u001b[0m\u001b[0;34m,\u001b[0m \u001b[0mstep\u001b[0m\u001b[0;34m)\u001b[0m\u001b[0;34m\u001b[0m\u001b[0m\n\u001b[0m\u001b[1;32m    822\u001b[0m \u001b[0;34m\u001b[0m\u001b[0m\n\u001b[1;32m    823\u001b[0m         \u001b[0matom\u001b[0m \u001b[0;34m=\u001b[0m \u001b[0mself\u001b[0m\u001b[0;34m.\u001b[0m\u001b[0matom\u001b[0m\u001b[0;34m\u001b[0m\u001b[0m\n",
      "\u001b[0;32mtables/hdf5extension.pyx\u001b[0m in \u001b[0;36mtables.hdf5extension.VLArray._read_array\u001b[0;34m()\u001b[0m\n",
      "\u001b[0;31mValueError\u001b[0m: cannot set WRITEABLE flag to True of this array"
     ]
    }
   ],
   "source": [
    "df = utils.load_train_hdf('../data/')\n",
    "df.head()"
   ]
  },
  {
   "cell_type": "code",
   "execution_count": null,
   "metadata": {},
   "outputs": [],
   "source": [
    "df_test = pd.read_hdf('../data/test_public_v2.hdf')\n",
    "df_private = pd.read_hdf('../data/test_private_v2_track_1.hdf')"
   ]
  },
  {
   "cell_type": "code",
   "execution_count": null,
   "metadata": {},
   "outputs": [],
   "source": [
    "df = df.replace(-9999,np.nan)\n",
    "df_test = df_test.replace(-9999, np.nan)\n",
    "df_private = df_private.replace(-9999, np.nan)\n",
    "for i in range(4):\n",
    "    df['MatchedHit_TYPE[{}]'.format(i)] = df['MatchedHit_TYPE[{}]'.format(i)].replace(0,np.nan)\n",
    "    df_test['MatchedHit_TYPE[{}]'.format(i)] = df_test['MatchedHit_TYPE[{}]'.format(i)].replace(0,np.nan)\n",
    "    df['MatchedHit_T[{}]'.format(i)] = df['MatchedHit_T[{}]'.format(i)].replace(255,np.nan)\n",
    "    df_test['MatchedHit_T[{}]'.format(i)] = df_test['MatchedHit_T[{}]'.format(i)].replace(255,np.nan)\n",
    "    df['MatchedHit_DT[{}]'.format(i)] = df['MatchedHit_DT[{}]'.format(i)].replace(255,np.nan)\n",
    "    df_test['MatchedHit_DT[{}]'.format(i)] = df_test['MatchedHit_DT[{}]'.format(i)].replace(255,np.nan)\n",
    "    \n",
    "    df_private['MatchedHit_TYPE[{}]'.format(i)] = df_private['MatchedHit_TYPE[{}]'.format(i)].replace(0,np.nan)\n",
    "    df_private['MatchedHit_T[{}]'.format(i)] = df_private['MatchedHit_T[{}]'.format(i)].replace(255,np.nan)\n",
    "    df_private['MatchedHit_DT[{}]'.format(i)] = df_private['MatchedHit_DT[{}]'.format(i)].replace(255,np.nan)"
   ]
  },
  {
   "cell_type": "code",
   "execution_count": null,
   "metadata": {},
   "outputs": [],
   "source": [
    "df['angle'] = np.arcsin(df['PT']/df['P'])\n",
    "df_test['angle'] = np.arcsin(df_test['PT']/df_test['P'])\n",
    "df['pseudorap'] = - np.log(np.tan(df['angle'] / 2))\n",
    "df_test['pseudorap'] = - np.log(np.tan(df_test['angle'] / 2))\n",
    "df['r'] = np.sqrt(df['angle'] ** 2 + df['pseudorap'] **2)\n",
    "df_test['r'] = np.sqrt(df_test['angle'] ** 2 + df_test['pseudorap'] **2)\n",
    "df['PZ'] = np.sqrt(df['P']** 2 -  df['PT']**2)\n",
    "df_test['PZ'] = np.sqrt(df_test['P']** 2 -  df_test['PT']**2)\n",
    "\n",
    "df_private['angle'] = np.arcsin(df_private['PT']/df_private['P'])\n",
    "df_private['pseudorap'] = - np.log(np.tan(df_private['angle'] / 2))\n",
    "df_private['r'] = np.sqrt(df_private['angle'] ** 2 + df_private['pseudorap'] **2)\n",
    "df_private['PZ'] = np.sqrt(df_private['P']** 2 -  df_private['PT']**2)"
   ]
  },
  {
   "cell_type": "code",
   "execution_count": null,
   "metadata": {},
   "outputs": [],
   "source": [
    "cols = ['MatchedHit_X[0]',\n",
    " 'MatchedHit_X[1]',\n",
    " 'MatchedHit_X[2]',\n",
    " 'MatchedHit_X[3]',\n",
    " 'MatchedHit_Y[0]',\n",
    " 'MatchedHit_Y[1]',\n",
    " 'MatchedHit_Y[2]',\n",
    " 'MatchedHit_Y[3]',\n",
    "'Lextra_X[0]',\n",
    " 'Lextra_X[1]',\n",
    " 'Lextra_X[2]',\n",
    " 'Lextra_X[3]',\n",
    " 'Lextra_Y[0]',\n",
    " 'Lextra_Y[1]',\n",
    " 'Lextra_Y[2]',\n",
    " 'Lextra_Y[3]']\n",
    "cols_arr = ['FOI_hits_X','FOI_hits_Y']\n",
    "for x in cols:\n",
    "    df[x] = np.abs(df[x])\n",
    "    df_test[x] = np.abs(df_test[x])\n",
    "    df_private[x] = np.abs(df_private[x])\n",
    "for x in cols_arr:\n",
    "    df[x] = [np.abs(y) for y in df[x]]\n",
    "    df_test[x] = [np.abs(y) for y in df_test[x]]\n",
    "    df_private[x] = [np.abs(y) for y in df_private[x]]"
   ]
  },
  {
   "cell_type": "code",
   "execution_count": null,
   "metadata": {},
   "outputs": [],
   "source": [
    "def find_closest_hit_per_station(row):\n",
    "    EMPTY_FILLER = np.nan\n",
    "    result = np.empty(44, dtype=np.float32)\n",
    "    closest_x_per_station = result[0:4]\n",
    "    closest_y_per_station = result[4:8]\n",
    "    closest_T_per_station = result[8:12]\n",
    "    closest_z_per_station = result[12:16]\n",
    "    closest_dx_per_station = result[16:20]\n",
    "    closest_dy_per_station = result[20:24]\n",
    "    closest_distance_station = result[24:28]\n",
    "    normed_distance_per_stations = result[28:32]\n",
    "    distance_from_origin = result[32:36]\n",
    "    closest_dz = result[36:40]\n",
    "    close_match_dist = result[40:44]\n",
    "    total_distance = 0\n",
    "    hits_count = 0\n",
    "    for station in range(4):\n",
    "        hits = (row[\"FOI_hits_S\"] == station)\n",
    " \n",
    "        if not hits.any():\n",
    "            closest_x_per_station[station] = EMPTY_FILLER\n",
    "            closest_y_per_station[station] = EMPTY_FILLER\n",
    "            closest_T_per_station[station] = EMPTY_FILLER\n",
    "            closest_z_per_station[station] = EMPTY_FILLER\n",
    "            closest_dx_per_station[station] = EMPTY_FILLER\n",
    "            closest_dy_per_station[station] = EMPTY_FILLER\n",
    "            closest_distance_station[station] = EMPTY_FILLER\n",
    "            normed_distance_per_stations[station] = EMPTY_FILLER\n",
    "            distance_from_origin[station] = EMPTY_FILLER\n",
    "            closest_dz[station] = EMPTY_FILLER\n",
    "            close_match_dist[station] = EMPTY_FILLER\n",
    "        else:\n",
    "#             import pdb;pdb.set_trace()\n",
    "            lextra = [15270, 16470, 17670, 18870]\n",
    "            x_distances_2 = (row[\"Lextra_X[%i]\" % station] - row[\"FOI_hits_X\"][hits])**2\n",
    "            y_distances_2 = (row[\"Lextra_Y[%i]\" % station] - row[\"FOI_hits_Y\"][hits])**2\n",
    "            distances_2 = x_distances_2 + y_distances_2\n",
    "            closest_hit = np.argmin(distances_2)\n",
    "            closest_distance_station[station] = distances_2[closest_hit]\n",
    "            distance_from_origin[station] = row[\"FOI_hits_Z\"][hits][closest_hit]**2 + row[\"FOI_hits_X\"][hits][closest_hit]**2 + row[\"FOI_hits_Y\"][hits][closest_hit]**2\n",
    "            closest_x_per_station[station] = x_distances_2[closest_hit]\n",
    "            closest_y_per_station[station] = y_distances_2[closest_hit]\n",
    "            closest_T_per_station[station] = row[\"FOI_hits_T\"][hits][closest_hit]\n",
    "            closest_z_per_station[station] = row[\"FOI_hits_Z\"][hits][closest_hit]\n",
    "            closest_dx_per_station[station] = row[\"FOI_hits_DX\"][hits][closest_hit]\n",
    "            closest_dy_per_station[station] = row[\"FOI_hits_DY\"][hits][closest_hit]\n",
    "            close_match_dist[station] = (closest_x_per_station[station] - row['MatchedHit_X[%i]' % station]) ** 2 + (closest_y_per_station[station] - row['MatchedHit_Y[%i]' % station]) ** 2\n",
    "            closest_dz[station] = (closest_z_per_station[station] - lextra[station])**2\n",
    "            normed_distance_per_stations[station] = x_distances_2[closest_hit] / closest_dx_per_station[station]**2 + \\\n",
    "                y_distances_2[closest_hit] / closest_dy_per_station[station] ** 2\n",
    "            total_distance += normed_distance_per_stations[station]\n",
    "            hits_count += 1\n",
    "    if hits_count > 1:\n",
    "        total_distance /= hits_count\n",
    "\n",
    "    pflags = np.array([(row['P'] < 6000), (row['P'] >=  6000 and row['P'] <  10000 ), (row['P'] >= 10000), \n",
    "                       (row['P'] <= 3500), (row['P'] < 6000 and row['P'] > 3500)]).astype(np.float32)\n",
    "    flags = np.diag([1,1,1,1])[row[\"FOI_hits_S\"]].sum(0).clip(max = 1).astype(np.float32)\n",
    "    ismuon1 = flags[0] * flags[1] * (row['P'] < 6000)\n",
    "    ismuon2 = flags[0] * flags[1] * (flags[2] + flags[3]).clip(max=1) * (row['P'] >=  6000 and row['P'] <  10000 )\n",
    "    ismuon3 = flags[0] * flags[1] * flags[2] * flags[3] * (row['P'] >= 10000)\n",
    "    ismuon = (ismuon1 + ismuon2 + ismuon3).clip(max=1)\n",
    "    isloose1 = flags[0] * flags[1] * (row['P'] <= 3500)\n",
    "    isloose2 = ((flags[0] + flags[1] + flags[2]) >= 2) * (row['P'] < 6000 and row['P'] > 3500 )\n",
    "    isloose3 = ((flags[0] + flags[1] + flags[2] + flags[3]) >= 3) * (row['P'] >= 10000 )\n",
    "    isloose = (isloose1 + isloose2 + isloose3).clip(max = 1)\n",
    "    tight_hits = [x for i,x in enumerate(row[\"FOI_hits_S\"]) if row['MatchedHit_TYPE[%i]' % x] == 2]\n",
    "    if tight_hits:\n",
    "        tight_flags = np.diag([1,1,1,1])[tight_hits].sum(0).clip(max = 1)\n",
    "        istight1 = tight_flags[0] * tight_flags[1] * (row['P'] < 6000)\n",
    "        istight2 = tight_flags[0] * tight_flags[1] * (tight_flags[2] + tight_flags[3]).clip(max=1) * (row['P'] >=  6000 and row['P'] <  10000 )\n",
    "        istight3 = tight_flags[0] * tight_flags[1] * tight_flags[2] * tight_flags[3] * (row['P'] >= 10000)\n",
    "        istight = (istight1 + istight2 + istight3).clip(max=1)\n",
    "    else:\n",
    "        istight = 0\n",
    "    result = np.concatenate((result,pflags, flags,np.array([ismuon,isloose,istight,hits_count,total_distance])))\n",
    "    return result"
   ]
  },
  {
   "cell_type": "code",
   "execution_count": null,
   "metadata": {},
   "outputs": [],
   "source": [
    "find_closest_hit_per_station(df.iloc[0])"
   ]
  },
  {
   "cell_type": "code",
   "execution_count": null,
   "metadata": {},
   "outputs": [],
   "source": [
    "closest_hits_features = df.swifter.apply(\n",
    "    find_closest_hit_per_station, result_type=\"expand\", axis=1)\n",
    "closest_hits_features_test = df_test.swifter.apply(\n",
    "    find_closest_hit_per_station, result_type=\"expand\", axis=1)\n",
    "closest_hits_features_private = df_private.swifter.apply(\n",
    "    find_closest_hit_per_station, result_type=\"expand\", axis=1)"
   ]
  },
  {
   "cell_type": "code",
   "execution_count": null,
   "metadata": {},
   "outputs": [],
   "source": [
    "X = pd.concat(\n",
    "    [df.loc[:, utils.SIMPLE_FEATURE_COLUMNS + ['angle','pseudorap','r','PZ']],\n",
    "     closest_hits_features], axis=1)\n",
    "X_pred = pd.concat(\n",
    "    [df_test.loc[:, utils.SIMPLE_FEATURE_COLUMNS + ['angle','pseudorap','r','PZ']], closest_hits_features_test],\n",
    "    axis=1)\n",
    "X_private = pd.concat(\n",
    "    [df_private.loc[:, utils.SIMPLE_FEATURE_COLUMNS + ['angle','pseudorap','r','PZ']], closest_hits_features_private],\n",
    "    axis=1)"
   ]
  },
  {
   "cell_type": "code",
   "execution_count": null,
   "metadata": {},
   "outputs": [],
   "source": [
    "X.shape,X_pred.shape,X_private.shape"
   ]
  },
  {
   "cell_type": "code",
   "execution_count": null,
   "metadata": {},
   "outputs": [],
   "source": [
    "# X = df[SIMPLE_FEATURE_COLUMNS]\n",
    "y = df['label']"
   ]
  },
  {
   "cell_type": "code",
   "execution_count": null,
   "metadata": {},
   "outputs": [],
   "source": [
    "# binned_weights = np.digitize(df['weight'],bins = [np.percentile(df['weight'][df['particle_type'] == 0],i) for i in range(10,100,10)])*(df['particle_type'] == 0) +\\\n",
    "# (np.digitize(df['weight'],bins = [np.percentile(df['weight'][df['particle_type'] == 1],i) for i in range(10,100,10)])+10)*(df['particle_type'] == 1) +\\\n",
    "# (np.digitize(df['weight'],bins = [np.percentile(df['weight'][df['particle_type'] == 2],i) for i in range(10,100,10)])+20)*(df['particle_type'] == 2)"
   ]
  },
  {
   "cell_type": "code",
   "execution_count": null,
   "metadata": {},
   "outputs": [],
   "source": [
    "# plt.hist(binned_weights)"
   ]
  },
  {
   "cell_type": "code",
   "execution_count": null,
   "metadata": {},
   "outputs": [],
   "source": [
    "old_coluns = X.columns"
   ]
  },
  {
   "cell_type": "code",
   "execution_count": null,
   "metadata": {},
   "outputs": [],
   "source": [
    "import xgboost as xgb"
   ]
  },
  {
   "cell_type": "code",
   "execution_count": null,
   "metadata": {},
   "outputs": [],
   "source": [
    "new_columns = [str(x).replace('[','').replace(']','') for x in X.columns]\n",
    "X.columns = new_columns\n",
    "X_pred.columns = new_columns\n",
    "X_private.columns = new_columns"
   ]
  },
  {
   "cell_type": "code",
   "execution_count": 3,
   "metadata": {},
   "outputs": [
    {
     "ename": "NameError",
     "evalue": "name 'xgb' is not defined",
     "output_type": "error",
     "traceback": [
      "\u001b[0;31m---------------------------------------------------------------------------\u001b[0m",
      "\u001b[0;31mNameError\u001b[0m                                 Traceback (most recent call last)",
      "\u001b[0;32m<ipython-input-3-6f3061aadb9d>\u001b[0m in \u001b[0;36m<module>\u001b[0;34m\u001b[0m\n\u001b[0;32m----> 1\u001b[0;31m \u001b[0mpred_dataset\u001b[0m \u001b[0;34m=\u001b[0m \u001b[0mxgb\u001b[0m\u001b[0;34m.\u001b[0m\u001b[0mDMatrix\u001b[0m\u001b[0;34m(\u001b[0m\u001b[0mX_pred\u001b[0m\u001b[0;34m)\u001b[0m\u001b[0;34m\u001b[0m\u001b[0m\n\u001b[0m\u001b[1;32m      2\u001b[0m \u001b[0mdataset\u001b[0m \u001b[0;34m=\u001b[0m \u001b[0mxgb\u001b[0m\u001b[0;34m.\u001b[0m\u001b[0mDMatrix\u001b[0m\u001b[0;34m(\u001b[0m\u001b[0mX\u001b[0m\u001b[0;34m,\u001b[0m \u001b[0mlabel\u001b[0m \u001b[0;34m=\u001b[0m \u001b[0my\u001b[0m\u001b[0;34m,\u001b[0m \u001b[0mweight\u001b[0m\u001b[0;34m=\u001b[0m\u001b[0mdf\u001b[0m\u001b[0;34m.\u001b[0m\u001b[0mweight\u001b[0m\u001b[0;34m.\u001b[0m\u001b[0mvalues\u001b[0m\u001b[0;34m)\u001b[0m\u001b[0;34m\u001b[0m\u001b[0m\n\u001b[1;32m      3\u001b[0m \u001b[0mprivate_dataset\u001b[0m \u001b[0;34m=\u001b[0m \u001b[0mxgb\u001b[0m\u001b[0;34m.\u001b[0m\u001b[0mDMatrix\u001b[0m\u001b[0;34m(\u001b[0m\u001b[0mX_private\u001b[0m\u001b[0;34m)\u001b[0m\u001b[0;34m\u001b[0m\u001b[0m\n",
      "\u001b[0;31mNameError\u001b[0m: name 'xgb' is not defined"
     ]
    }
   ],
   "source": [
    "pred_dataset = xgb.DMatrix(X_pred)\n",
    "dataset = xgb.DMatrix(X, label = y, weight=df.weight.values)\n",
    "private_dataset = xgb.DMatrix(X_private)"
   ]
  },
  {
   "cell_type": "code",
   "execution_count": 80,
   "metadata": {},
   "outputs": [],
   "source": [
    "\n",
    "parameters = {\n",
    "              'booster' : 'gbtree',\n",
    "              'max_depth' : 6,\n",
    "              'gamma' : 1.,\n",
    "              'eta' : 0.05,\n",
    "              'objective' : 'binary:logistic',\n",
    "              'nthread' : 80,\n",
    "              'silent' : True,\n",
    "#               'eval_metric': 'rej90',\n",
    "              'subsample' : 0.8,\n",
    "              'colsample_bytree' : 0.7,\n",
    "#               'min_child_weight' : 3,\n",
    "#               'max_delta_step' : 1,\n",
    "#               'seed' : 42\n",
    "                'alpha':0.1,\n",
    "#                 'lambda':1,\n",
    "              }"
   ]
  },
  {
   "cell_type": "code",
   "execution_count": 81,
   "metadata": {},
   "outputs": [],
   "source": [
    "#gamma"
   ]
  },
  {
   "cell_type": "code",
   "execution_count": 82,
   "metadata": {},
   "outputs": [],
   "source": [
    "def feval(preds, data):\n",
    "    return  ('rej90',scoring.get_rejection_at_efficiency(data.get_label(),\n",
    "                                                         preds, 0.9, data.get_weight()))"
   ]
  },
  {
   "cell_type": "code",
   "execution_count": 83,
   "metadata": {},
   "outputs": [],
   "source": [
    "# xgb.cv(parameters,dataset,early_stopping_rounds=100,nfold=5, stratified=True,\n",
    "#                       verbose_eval=10, num_boost_round=10000, feval = feval,maximize=True )"
   ]
  },
  {
   "cell_type": "code",
   "execution_count": null,
   "metadata": {},
   "outputs": [
    {
     "name": "stderr",
     "output_type": "stream",
     "text": [
      "\n",
      "\n",
      "\n",
      "\n",
      "\n",
      "\n",
      "\n",
      "\n",
      "\n",
      "\n",
      "\n",
      "\n",
      "  0%|          | 0/5 [00:00<?, ?it/s]\u001b[A\u001b[A\u001b[A\u001b[A\u001b[A\u001b[A\u001b[A\u001b[A\u001b[A\u001b[A\u001b[A\u001b[A"
     ]
    },
    {
     "name": "stdout",
     "output_type": "stream",
     "text": [
      "[13:11:05] Tree method is automatically selected to be 'approx' for faster speed. To use old behavior (exact greedy algorithm on single machine), set tree_method to 'exact'.\n",
      "[0]\ttrain-error:0.199744\ttest-error:0.195078\ttrain-rej90:0.695476\ttest-rej90:0.702914\n",
      "Multiple eval metrics have been passed: 'test-rej90' will be used for early stopping.\n",
      "\n",
      "Will train until test-rej90 hasn't improved in 100 rounds.\n",
      "[10]\ttrain-error:0.196028\ttest-error:0.197382\ttrain-rej90:0.737742\ttest-rej90:0.746015\n",
      "[20]\ttrain-error:0.191815\ttest-error:0.198029\ttrain-rej90:0.743415\ttest-rej90:0.749959\n",
      "[30]\ttrain-error:0.183698\ttest-error:0.189776\ttrain-rej90:0.752957\ttest-rej90:0.754963\n",
      "[40]\ttrain-error:0.181875\ttest-error:0.187903\ttrain-rej90:0.760751\ttest-rej90:0.76084\n",
      "[50]\ttrain-error:0.178199\ttest-error:0.185329\ttrain-rej90:0.765981\ttest-rej90:0.761397\n",
      "[60]\ttrain-error:0.174906\ttest-error:0.184276\ttrain-rej90:0.773558\ttest-rej90:0.767831\n",
      "[70]\ttrain-error:0.170983\ttest-error:0.181265\ttrain-rej90:0.781884\ttest-rej90:0.769018\n",
      "[80]\ttrain-error:0.167598\ttest-error:0.183044\ttrain-rej90:0.788275\ttest-rej90:0.773312\n",
      "[90]\ttrain-error:0.165083\ttest-error:0.179902\ttrain-rej90:0.7943\ttest-rej90:0.775091\n",
      "[100]\ttrain-error:0.162619\ttest-error:0.180276\ttrain-rej90:0.800677\ttest-rej90:0.776231\n",
      "[110]\ttrain-error:0.159669\ttest-error:0.179146\ttrain-rej90:0.805363\ttest-rej90:0.777274\n",
      "[120]\ttrain-error:0.156815\ttest-error:0.178929\ttrain-rej90:0.810786\ttest-rej90:0.778832\n",
      "[130]\ttrain-error:0.155376\ttest-error:0.177986\ttrain-rej90:0.81488\ttest-rej90:0.779894\n",
      "[140]\ttrain-error:0.153312\ttest-error:0.176413\ttrain-rej90:0.819426\ttest-rej90:0.778939\n",
      "[150]\ttrain-error:0.150729\ttest-error:0.175062\ttrain-rej90:0.823572\ttest-rej90:0.778171\n",
      "[160]\ttrain-error:0.148286\ttest-error:0.175821\ttrain-rej90:0.825189\ttest-rej90:0.778275\n",
      "[170]\ttrain-error:0.145619\ttest-error:0.176302\ttrain-rej90:0.829168\ttest-rej90:0.781925\n",
      "[180]\ttrain-error:0.143346\ttest-error:0.174767\ttrain-rej90:0.833639\ttest-rej90:0.781433\n",
      "[190]\ttrain-error:0.1417\ttest-error:0.174616\ttrain-rej90:0.837063\ttest-rej90:0.782369\n",
      "[200]\ttrain-error:0.139695\ttest-error:0.173072\ttrain-rej90:0.841239\ttest-rej90:0.783244\n",
      "[210]\ttrain-error:0.138313\ttest-error:0.1728\ttrain-rej90:0.844965\ttest-rej90:0.784549\n",
      "[220]\ttrain-error:0.136634\ttest-error:0.172352\ttrain-rej90:0.847977\ttest-rej90:0.783924\n",
      "[230]\ttrain-error:0.135084\ttest-error:0.171313\ttrain-rej90:0.851432\ttest-rej90:0.783954\n",
      "[240]\ttrain-error:0.134093\ttest-error:0.170244\ttrain-rej90:0.855566\ttest-rej90:0.782469\n",
      "[250]\ttrain-error:0.131211\ttest-error:0.169374\ttrain-rej90:0.859118\ttest-rej90:0.782506\n",
      "[260]\ttrain-error:0.130478\ttest-error:0.170572\ttrain-rej90:0.863177\ttest-rej90:0.783027\n",
      "[270]\ttrain-error:0.128604\ttest-error:0.170408\ttrain-rej90:0.864576\ttest-rej90:0.784116\n",
      "[280]\ttrain-error:0.126232\ttest-error:0.169772\ttrain-rej90:0.867357\ttest-rej90:0.782615\n",
      "[290]\ttrain-error:0.124309\ttest-error:0.169016\ttrain-rej90:0.870048\ttest-rej90:0.783639\n",
      "[300]\ttrain-error:0.122622\ttest-error:0.169542\ttrain-rej90:0.872372\ttest-rej90:0.785369\n",
      "[310]\ttrain-error:0.120757\ttest-error:0.168613\ttrain-rej90:0.874556\ttest-rej90:0.785515\n",
      "[320]\ttrain-error:0.119507\ttest-error:0.167146\ttrain-rej90:0.877723\ttest-rej90:0.785062\n",
      "[330]\ttrain-error:0.118149\ttest-error:0.167023\ttrain-rej90:0.879806\ttest-rej90:0.785924\n",
      "[340]\ttrain-error:0.116736\ttest-error:0.166192\ttrain-rej90:0.881506\ttest-rej90:0.787052\n",
      "[350]\ttrain-error:0.114443\ttest-error:0.165979\ttrain-rej90:0.884651\ttest-rej90:0.787423\n",
      "[360]\ttrain-error:0.112993\ttest-error:0.166505\ttrain-rej90:0.888953\ttest-rej90:0.78775\n",
      "[370]\ttrain-error:0.111541\ttest-error:0.165727\ttrain-rej90:0.892008\ttest-rej90:0.786984\n",
      "[380]\ttrain-error:0.109384\ttest-error:0.163769\ttrain-rej90:0.895582\ttest-rej90:0.786604\n",
      "[390]\ttrain-error:0.107752\ttest-error:0.1636\ttrain-rej90:0.897689\ttest-rej90:0.786797\n",
      "[400]\ttrain-error:0.106509\ttest-error:0.163246\ttrain-rej90:0.900627\ttest-rej90:0.785028\n",
      "[410]\ttrain-error:0.10485\ttest-error:0.16342\ttrain-rej90:0.901846\ttest-rej90:0.785294\n",
      "[420]\ttrain-error:0.103456\ttest-error:0.163383\ttrain-rej90:0.905149\ttest-rej90:0.786286\n",
      "[430]\ttrain-error:0.102305\ttest-error:0.162651\ttrain-rej90:0.90757\ttest-rej90:0.786562\n",
      "[440]\ttrain-error:0.100647\ttest-error:0.163573\ttrain-rej90:0.910251\ttest-rej90:0.787378\n",
      "[450]\ttrain-error:0.099569\ttest-error:0.162673\ttrain-rej90:0.912361\ttest-rej90:0.788071\n",
      "[460]\ttrain-error:0.098497\ttest-error:0.162464\ttrain-rej90:0.915141\ttest-rej90:0.788291\n",
      "[470]\ttrain-error:0.097337\ttest-error:0.161408\ttrain-rej90:0.918361\ttest-rej90:0.789801\n",
      "[480]\ttrain-error:0.096127\ttest-error:0.160989\ttrain-rej90:0.921557\ttest-rej90:0.789736\n",
      "[490]\ttrain-error:0.093936\ttest-error:0.160946\ttrain-rej90:0.923315\ttest-rej90:0.790312\n",
      "[500]\ttrain-error:0.09272\ttest-error:0.160737\ttrain-rej90:0.927236\ttest-rej90:0.790875\n",
      "[510]\ttrain-error:0.091114\ttest-error:0.160862\ttrain-rej90:0.928616\ttest-rej90:0.790034\n",
      "[520]\ttrain-error:0.089589\ttest-error:0.160433\ttrain-rej90:0.931469\ttest-rej90:0.791129\n",
      "[530]\ttrain-error:0.088203\ttest-error:0.159475\ttrain-rej90:0.933147\ttest-rej90:0.791663\n",
      "[540]\ttrain-error:0.087124\ttest-error:0.159222\ttrain-rej90:0.935488\ttest-rej90:0.791826\n",
      "[550]\ttrain-error:0.085842\ttest-error:0.158186\ttrain-rej90:0.936963\ttest-rej90:0.792267\n",
      "[560]\ttrain-error:0.084393\ttest-error:0.157735\ttrain-rej90:0.939439\ttest-rej90:0.792874\n",
      "[570]\ttrain-error:0.082823\ttest-error:0.157488\ttrain-rej90:0.941773\ttest-rej90:0.791295\n",
      "[580]\ttrain-error:0.081835\ttest-error:0.156926\ttrain-rej90:0.945047\ttest-rej90:0.789729\n",
      "[590]\ttrain-error:0.080677\ttest-error:0.156691\ttrain-rej90:0.947946\ttest-rej90:0.792683\n",
      "[600]\ttrain-error:0.079119\ttest-error:0.155706\ttrain-rej90:0.949724\ttest-rej90:0.792136\n",
      "[610]\ttrain-error:0.078263\ttest-error:0.155398\ttrain-rej90:0.951769\ttest-rej90:0.792118\n",
      "[620]\ttrain-error:0.076475\ttest-error:0.156043\ttrain-rej90:0.95353\ttest-rej90:0.792802\n",
      "[630]\ttrain-error:0.075409\ttest-error:0.156198\ttrain-rej90:0.954625\ttest-rej90:0.792422\n",
      "[640]\ttrain-error:0.07381\ttest-error:0.155367\ttrain-rej90:0.958588\ttest-rej90:0.792151\n",
      "[650]\ttrain-error:0.072607\ttest-error:0.155379\ttrain-rej90:0.960392\ttest-rej90:0.791571\n",
      "[660]\ttrain-error:0.071768\ttest-error:0.155221\ttrain-rej90:0.963666\ttest-rej90:0.791654\n",
      "[670]\ttrain-error:0.069994\ttest-error:0.155811\ttrain-rej90:0.965503\ttest-rej90:0.791811\n",
      "[680]\ttrain-error:0.068774\ttest-error:0.15584\ttrain-rej90:0.968731\ttest-rej90:0.791286\n",
      "[690]\ttrain-error:0.067659\ttest-error:0.156562\ttrain-rej90:0.971641\ttest-rej90:0.791786\n",
      "[700]\ttrain-error:0.066691\ttest-error:0.155562\ttrain-rej90:0.974089\ttest-rej90:0.790636\n",
      "[710]\ttrain-error:0.065336\ttest-error:0.156726\ttrain-rej90:0.974932\ttest-rej90:0.791041\n",
      "Stopping. Best iteration:\n",
      "[617]\ttrain-error:0.076846\ttest-error:0.155735\ttrain-rej90:0.953171\ttest-rej90:0.793599\n",
      "\n"
     ]
    },
    {
     "name": "stderr",
     "output_type": "stream",
     "text": [
      "\n",
      "\n",
      "\n",
      "\n",
      "\n",
      "\n",
      "\n",
      "\n",
      "\n",
      "\n",
      "\n",
      "\n",
      " 20%|██        | 1/5 [1:03:47<4:15:11, 3827.86s/it]\u001b[A\u001b[A\u001b[A\u001b[A\u001b[A\u001b[A\u001b[A\u001b[A\u001b[A\u001b[A\u001b[A\u001b[A"
     ]
    },
    {
     "name": "stdout",
     "output_type": "stream",
     "text": [
      "[14:14:54] Tree method is automatically selected to be 'approx' for faster speed. To use old behavior (exact greedy algorithm on single machine), set tree_method to 'exact'.\n",
      "[0]\ttrain-error:0.20564\ttest-error:0.209294\ttrain-rej90:0.668237\ttest-rej90:0.657905\n",
      "Multiple eval metrics have been passed: 'test-rej90' will be used for early stopping.\n",
      "\n",
      "Will train until test-rej90 hasn't improved in 100 rounds.\n",
      "[10]\ttrain-error:0.207759\ttest-error:0.215705\ttrain-rej90:0.736183\ttest-rej90:0.719779\n",
      "[20]\ttrain-error:0.186394\ttest-error:0.191043\ttrain-rej90:0.749961\ttest-rej90:0.738291\n",
      "[30]\ttrain-error:0.183408\ttest-error:0.187104\ttrain-rej90:0.757781\ttest-rej90:0.745838\n",
      "[40]\ttrain-error:0.180814\ttest-error:0.184668\ttrain-rej90:0.764495\ttest-rej90:0.747695\n",
      "[50]\ttrain-error:0.178487\ttest-error:0.183202\ttrain-rej90:0.771054\ttest-rej90:0.753174\n",
      "[60]\ttrain-error:0.176454\ttest-error:0.183197\ttrain-rej90:0.775766\ttest-rej90:0.754954\n",
      "[70]\ttrain-error:0.173959\ttest-error:0.183181\ttrain-rej90:0.780599\ttest-rej90:0.757265\n",
      "[80]\ttrain-error:0.170665\ttest-error:0.182556\ttrain-rej90:0.785664\ttest-rej90:0.761566\n",
      "[90]\ttrain-error:0.167187\ttest-error:0.180592\ttrain-rej90:0.792777\ttest-rej90:0.767775\n",
      "[100]\ttrain-error:0.164479\ttest-error:0.17871\ttrain-rej90:0.799249\ttest-rej90:0.770023\n",
      "[110]\ttrain-error:0.160016\ttest-error:0.178353\ttrain-rej90:0.804724\ttest-rej90:0.774878\n",
      "[120]\ttrain-error:0.157107\ttest-error:0.178735\ttrain-rej90:0.809739\ttest-rej90:0.772139\n",
      "[130]\ttrain-error:0.155127\ttest-error:0.176973\ttrain-rej90:0.813579\ttest-rej90:0.774273\n",
      "[140]\ttrain-error:0.154\ttest-error:0.176409\ttrain-rej90:0.816483\ttest-rej90:0.776775\n",
      "[150]\ttrain-error:0.151359\ttest-error:0.175928\ttrain-rej90:0.819407\ttest-rej90:0.77606\n",
      "[160]\ttrain-error:0.148295\ttest-error:0.175849\ttrain-rej90:0.822582\ttest-rej90:0.775897\n",
      "[170]\ttrain-error:0.145936\ttest-error:0.175211\ttrain-rej90:0.827536\ttest-rej90:0.775617\n",
      "[180]\ttrain-error:0.143514\ttest-error:0.174109\ttrain-rej90:0.831697\ttest-rej90:0.775495\n",
      "[190]\ttrain-error:0.141566\ttest-error:0.17272\ttrain-rej90:0.836361\ttest-rej90:0.779715\n",
      "[200]\ttrain-error:0.140005\ttest-error:0.172538\ttrain-rej90:0.839162\ttest-rej90:0.77942\n",
      "[210]\ttrain-error:0.137752\ttest-error:0.17269\ttrain-rej90:0.842007\ttest-rej90:0.779474\n",
      "[220]\ttrain-error:0.135606\ttest-error:0.171565\ttrain-rej90:0.844776\ttest-rej90:0.781099\n",
      "[230]\ttrain-error:0.133505\ttest-error:0.170485\ttrain-rej90:0.848327\ttest-rej90:0.778396\n",
      "[240]\ttrain-error:0.131668\ttest-error:0.171058\ttrain-rej90:0.851668\ttest-rej90:0.779261\n",
      "[250]\ttrain-error:0.129723\ttest-error:0.170877\ttrain-rej90:0.856799\ttest-rej90:0.782302\n",
      "[260]\ttrain-error:0.127307\ttest-error:0.169147\ttrain-rej90:0.861964\ttest-rej90:0.781898\n",
      "[270]\ttrain-error:0.125838\ttest-error:0.169726\ttrain-rej90:0.863769\ttest-rej90:0.782921\n",
      "[280]\ttrain-error:0.12368\ttest-error:0.169664\ttrain-rej90:0.868077\ttest-rej90:0.783411\n",
      "[290]\ttrain-error:0.122662\ttest-error:0.169077\ttrain-rej90:0.870308\ttest-rej90:0.784545\n",
      "[300]\ttrain-error:0.120489\ttest-error:0.168136\ttrain-rej90:0.873577\ttest-rej90:0.785071\n",
      "[310]\ttrain-error:0.118582\ttest-error:0.166845\ttrain-rej90:0.87821\ttest-rej90:0.787167\n",
      "[320]\ttrain-error:0.116743\ttest-error:0.166764\ttrain-rej90:0.880396\ttest-rej90:0.786963\n",
      "[330]\ttrain-error:0.115013\ttest-error:0.166052\ttrain-rej90:0.8834\ttest-rej90:0.786819\n",
      "[340]\ttrain-error:0.113562\ttest-error:0.166426\ttrain-rej90:0.8875\ttest-rej90:0.786893\n",
      "[350]\ttrain-error:0.112645\ttest-error:0.166134\ttrain-rej90:0.890266\ttest-rej90:0.787657\n",
      "[360]\ttrain-error:0.111469\ttest-error:0.165492\ttrain-rej90:0.892912\ttest-rej90:0.788071\n",
      "[370]\ttrain-error:0.10942\ttest-error:0.164075\ttrain-rej90:0.89608\ttest-rej90:0.787365\n",
      "[380]\ttrain-error:0.1082\ttest-error:0.165158\ttrain-rej90:0.898122\ttest-rej90:0.78833\n",
      "[390]\ttrain-error:0.107025\ttest-error:0.164377\ttrain-rej90:0.900551\ttest-rej90:0.787617\n",
      "[400]\ttrain-error:0.105608\ttest-error:0.163761\ttrain-rej90:0.903192\ttest-rej90:0.787614\n",
      "[410]\ttrain-error:0.104102\ttest-error:0.16417\ttrain-rej90:0.906166\ttest-rej90:0.787441\n",
      "[420]\ttrain-error:0.103052\ttest-error:0.164347\ttrain-rej90:0.909164\ttest-rej90:0.787698\n",
      "[430]\ttrain-error:0.101901\ttest-error:0.163514\ttrain-rej90:0.911787\ttest-rej90:0.789525\n",
      "[440]\ttrain-error:0.099922\ttest-error:0.161234\ttrain-rej90:0.914815\ttest-rej90:0.791161\n",
      "[450]\ttrain-error:0.098843\ttest-error:0.161669\ttrain-rej90:0.916133\ttest-rej90:0.789869\n",
      "[460]\ttrain-error:0.096781\ttest-error:0.16135\ttrain-rej90:0.919309\ttest-rej90:0.791236\n",
      "[470]\ttrain-error:0.095355\ttest-error:0.160403\ttrain-rej90:0.922103\ttest-rej90:0.793193\n",
      "[480]\ttrain-error:0.094292\ttest-error:0.160574\ttrain-rej90:0.924343\ttest-rej90:0.790668\n",
      "[490]\ttrain-error:0.092326\ttest-error:0.161451\ttrain-rej90:0.926686\ttest-rej90:0.791535\n",
      "[500]\ttrain-error:0.090612\ttest-error:0.161344\ttrain-rej90:0.929425\ttest-rej90:0.791657\n",
      "[510]\ttrain-error:0.089228\ttest-error:0.161462\ttrain-rej90:0.931525\ttest-rej90:0.790734\n",
      "[520]\ttrain-error:0.087903\ttest-error:0.160666\ttrain-rej90:0.934677\ttest-rej90:0.791504\n",
      "[530]\ttrain-error:0.086731\ttest-error:0.159803\ttrain-rej90:0.936533\ttest-rej90:0.789231\n",
      "[540]\ttrain-error:0.085843\ttest-error:0.160379\ttrain-rej90:0.937505\ttest-rej90:0.790247\n",
      "[550]\ttrain-error:0.084092\ttest-error:0.160493\ttrain-rej90:0.941289\ttest-rej90:0.791204\n",
      "[560]\ttrain-error:0.082692\ttest-error:0.159549\ttrain-rej90:0.942457\ttest-rej90:0.792246\n",
      "[570]\ttrain-error:0.081363\ttest-error:0.160924\ttrain-rej90:0.946196\ttest-rej90:0.792257\n",
      "Stopping. Best iteration:\n",
      "[470]\ttrain-error:0.095355\ttest-error:0.160403\ttrain-rej90:0.922103\ttest-rej90:0.793193\n",
      "\n"
     ]
    },
    {
     "name": "stderr",
     "output_type": "stream",
     "text": [
      "\n",
      "\n",
      "\n",
      "\n",
      "\n",
      "\n",
      "\n",
      "\n",
      "\n",
      "\n",
      "\n",
      "\n",
      " 40%|████      | 2/5 [2:07:35<3:11:23, 3827.75s/it]\u001b[A\u001b[A\u001b[A\u001b[A\u001b[A\u001b[A\u001b[A\u001b[A\u001b[A\u001b[A\u001b[A\u001b[A"
     ]
    },
    {
     "name": "stdout",
     "output_type": "stream",
     "text": [
      "[15:18:44] Tree method is automatically selected to be 'approx' for faster speed. To use old behavior (exact greedy algorithm on single machine), set tree_method to 'exact'.\n",
      "[0]\ttrain-error:0.217535\ttest-error:0.22743\ttrain-rej90:0.646482\ttest-rej90:0.631015\n",
      "Multiple eval metrics have been passed: 'test-rej90' will be used for early stopping.\n",
      "\n",
      "Will train until test-rej90 hasn't improved in 100 rounds.\n",
      "[10]\ttrain-error:0.192605\ttest-error:0.199877\ttrain-rej90:0.736695\ttest-rej90:0.717021\n",
      "[20]\ttrain-error:0.186732\ttest-error:0.197429\ttrain-rej90:0.752241\ttest-rej90:0.731427\n",
      "[30]\ttrain-error:0.181625\ttest-error:0.190246\ttrain-rej90:0.758839\ttest-rej90:0.740403\n",
      "[40]\ttrain-error:0.18092\ttest-error:0.18821\ttrain-rej90:0.765369\ttest-rej90:0.744801\n",
      "[50]\ttrain-error:0.17771\ttest-error:0.186115\ttrain-rej90:0.771754\ttest-rej90:0.749599\n",
      "[60]\ttrain-error:0.174415\ttest-error:0.185126\ttrain-rej90:0.776585\ttest-rej90:0.754657\n",
      "[70]\ttrain-error:0.17179\ttest-error:0.183984\ttrain-rej90:0.783656\ttest-rej90:0.758111\n",
      "[80]\ttrain-error:0.168417\ttest-error:0.181636\ttrain-rej90:0.787961\ttest-rej90:0.757374\n",
      "[90]\ttrain-error:0.16556\ttest-error:0.180428\ttrain-rej90:0.795212\ttest-rej90:0.759461\n",
      "[100]\ttrain-error:0.162935\ttest-error:0.176747\ttrain-rej90:0.79998\ttest-rej90:0.759592\n",
      "[110]\ttrain-error:0.160091\ttest-error:0.175208\ttrain-rej90:0.806278\ttest-rej90:0.76435\n",
      "[120]\ttrain-error:0.155817\ttest-error:0.174378\ttrain-rej90:0.811883\ttest-rej90:0.765547\n",
      "[130]\ttrain-error:0.152924\ttest-error:0.175057\ttrain-rej90:0.815489\ttest-rej90:0.765646\n",
      "[140]\ttrain-error:0.150674\ttest-error:0.173488\ttrain-rej90:0.818828\ttest-rej90:0.766974\n",
      "[150]\ttrain-error:0.149192\ttest-error:0.17264\ttrain-rej90:0.824047\ttest-rej90:0.766695\n",
      "[160]\ttrain-error:0.146864\ttest-error:0.172234\ttrain-rej90:0.828433\ttest-rej90:0.766527\n",
      "[170]\ttrain-error:0.145338\ttest-error:0.172616\ttrain-rej90:0.830484\ttest-rej90:0.766702\n",
      "[180]\ttrain-error:0.142802\ttest-error:0.171753\ttrain-rej90:0.835171\ttest-rej90:0.770566\n",
      "[190]\ttrain-error:0.140191\ttest-error:0.170033\ttrain-rej90:0.840035\ttest-rej90:0.766731\n",
      "[200]\ttrain-error:0.138708\ttest-error:0.171162\ttrain-rej90:0.844042\ttest-rej90:0.765975\n",
      "[210]\ttrain-error:0.1366\ttest-error:0.170941\ttrain-rej90:0.847556\ttest-rej90:0.768026\n",
      "[220]\ttrain-error:0.134866\ttest-error:0.169675\ttrain-rej90:0.850002\ttest-rej90:0.769084\n",
      "[230]\ttrain-error:0.132971\ttest-error:0.169944\ttrain-rej90:0.851837\ttest-rej90:0.769909\n",
      "[240]\ttrain-error:0.131357\ttest-error:0.168123\ttrain-rej90:0.855289\ttest-rej90:0.771093\n",
      "[250]\ttrain-error:0.129513\ttest-error:0.168938\ttrain-rej90:0.859256\ttest-rej90:0.772793\n",
      "[260]\ttrain-error:0.127975\ttest-error:0.168449\ttrain-rej90:0.861226\ttest-rej90:0.771742\n",
      "[270]\ttrain-error:0.125542\ttest-error:0.167884\ttrain-rej90:0.864874\ttest-rej90:0.772419\n",
      "[280]\ttrain-error:0.124312\ttest-error:0.167598\ttrain-rej90:0.86798\ttest-rej90:0.776043\n",
      "[290]\ttrain-error:0.121706\ttest-error:0.167147\ttrain-rej90:0.870306\ttest-rej90:0.774399\n",
      "[300]\ttrain-error:0.121246\ttest-error:0.166984\ttrain-rej90:0.873271\ttest-rej90:0.773994\n",
      "[310]\ttrain-error:0.1199\ttest-error:0.16728\ttrain-rej90:0.87706\ttest-rej90:0.774405\n",
      "[320]\ttrain-error:0.118183\ttest-error:0.166283\ttrain-rej90:0.880463\ttest-rej90:0.775385\n",
      "[330]\ttrain-error:0.117102\ttest-error:0.1662\ttrain-rej90:0.883094\ttest-rej90:0.775027\n",
      "[340]\ttrain-error:0.114779\ttest-error:0.166478\ttrain-rej90:0.887282\ttest-rej90:0.776158\n",
      "[350]\ttrain-error:0.113193\ttest-error:0.16586\ttrain-rej90:0.888458\ttest-rej90:0.77742\n",
      "[360]\ttrain-error:0.111975\ttest-error:0.165371\ttrain-rej90:0.891736\ttest-rej90:0.778566\n",
      "[370]\ttrain-error:0.11016\ttest-error:0.16566\ttrain-rej90:0.893421\ttest-rej90:0.779678\n",
      "[380]\ttrain-error:0.108084\ttest-error:0.165084\ttrain-rej90:0.897467\ttest-rej90:0.780093\n",
      "[390]\ttrain-error:0.105585\ttest-error:0.165566\ttrain-rej90:0.900475\ttest-rej90:0.779929\n",
      "[400]\ttrain-error:0.10414\ttest-error:0.165645\ttrain-rej90:0.903022\ttest-rej90:0.780207\n",
      "[410]\ttrain-error:0.103011\ttest-error:0.164405\ttrain-rej90:0.90538\ttest-rej90:0.780065\n",
      "[420]\ttrain-error:0.101265\ttest-error:0.16579\ttrain-rej90:0.908442\ttest-rej90:0.7801\n",
      "[430]\ttrain-error:0.100023\ttest-error:0.166627\ttrain-rej90:0.911365\ttest-rej90:0.777702\n",
      "[440]\ttrain-error:0.097973\ttest-error:0.165745\ttrain-rej90:0.913694\ttest-rej90:0.780546\n",
      "[450]\ttrain-error:0.096862\ttest-error:0.165831\ttrain-rej90:0.915933\ttest-rej90:0.778845\n",
      "[460]\ttrain-error:0.095305\ttest-error:0.164199\ttrain-rej90:0.917676\ttest-rej90:0.779056\n",
      "[470]\ttrain-error:0.093533\ttest-error:0.164772\ttrain-rej90:0.921245\ttest-rej90:0.778083\n",
      "[480]\ttrain-error:0.092069\ttest-error:0.164636\ttrain-rej90:0.923478\ttest-rej90:0.777812\n",
      "[490]\ttrain-error:0.091089\ttest-error:0.165053\ttrain-rej90:0.92648\ttest-rej90:0.778921\n",
      "[500]\ttrain-error:0.089208\ttest-error:0.164292\ttrain-rej90:0.930371\ttest-rej90:0.779491\n",
      "Stopping. Best iteration:\n",
      "[405]\ttrain-error:0.103822\ttest-error:0.165296\ttrain-rej90:0.903562\ttest-rej90:0.781495\n",
      "\n"
     ]
    },
    {
     "name": "stderr",
     "output_type": "stream",
     "text": [
      "\n",
      "\n",
      "\n",
      "\n",
      "\n",
      "\n",
      "\n",
      "\n",
      "\n",
      "\n",
      "\n",
      "\n",
      " 60%|██████    | 3/5 [2:51:32<1:55:41, 3470.64s/it]\u001b[A\u001b[A\u001b[A\u001b[A\u001b[A\u001b[A\u001b[A\u001b[A\u001b[A\u001b[A\u001b[A\u001b[A"
     ]
    },
    {
     "name": "stdout",
     "output_type": "stream",
     "text": [
      "[16:02:39] Tree method is automatically selected to be 'approx' for faster speed. To use old behavior (exact greedy algorithm on single machine), set tree_method to 'exact'.\n",
      "[0]\ttrain-error:0.219063\ttest-error:0.224334\ttrain-rej90:0.645483\ttest-rej90:0.634863\n",
      "Multiple eval metrics have been passed: 'test-rej90' will be used for early stopping.\n",
      "\n",
      "Will train until test-rej90 hasn't improved in 100 rounds.\n",
      "[10]\ttrain-error:0.197194\ttest-error:0.204281\ttrain-rej90:0.739318\ttest-rej90:0.724353\n",
      "[20]\ttrain-error:0.188928\ttest-error:0.194584\ttrain-rej90:0.747134\ttest-rej90:0.733929\n",
      "[30]\ttrain-error:0.185277\ttest-error:0.19141\ttrain-rej90:0.754619\ttest-rej90:0.741683\n",
      "[40]\ttrain-error:0.18067\ttest-error:0.189927\ttrain-rej90:0.762028\ttest-rej90:0.747282\n",
      "[50]\ttrain-error:0.178261\ttest-error:0.185718\ttrain-rej90:0.769471\ttest-rej90:0.755965\n",
      "[60]\ttrain-error:0.175673\ttest-error:0.18484\ttrain-rej90:0.776043\ttest-rej90:0.757734\n",
      "[70]\ttrain-error:0.172744\ttest-error:0.184152\ttrain-rej90:0.782549\ttest-rej90:0.758028\n",
      "[80]\ttrain-error:0.168737\ttest-error:0.182135\ttrain-rej90:0.788469\ttest-rej90:0.756556\n",
      "[90]\ttrain-error:0.165991\ttest-error:0.180865\ttrain-rej90:0.794124\ttest-rej90:0.76063\n",
      "[100]\ttrain-error:0.16238\ttest-error:0.181313\ttrain-rej90:0.798958\ttest-rej90:0.761548\n",
      "[110]\ttrain-error:0.159781\ttest-error:0.179035\ttrain-rej90:0.803366\ttest-rej90:0.764716\n",
      "[120]\ttrain-error:0.158027\ttest-error:0.179\ttrain-rej90:0.808099\ttest-rej90:0.763844\n",
      "[130]\ttrain-error:0.155346\ttest-error:0.178742\ttrain-rej90:0.812978\ttest-rej90:0.766617\n",
      "[140]\ttrain-error:0.15386\ttest-error:0.177614\ttrain-rej90:0.817266\ttest-rej90:0.768319\n",
      "[150]\ttrain-error:0.151103\ttest-error:0.176329\ttrain-rej90:0.821617\ttest-rej90:0.768753\n",
      "[160]\ttrain-error:0.148436\ttest-error:0.175145\ttrain-rej90:0.826273\ttest-rej90:0.77212\n",
      "[170]\ttrain-error:0.146192\ttest-error:0.173037\ttrain-rej90:0.831329\ttest-rej90:0.774943\n"
     ]
    }
   ],
   "source": [
    "predictions = []\n",
    "auc = []\n",
    "models = []\n",
    "from sklearn.model_selection import StratifiedKFold\n",
    "kfold = StratifiedKFold(n_splits = 5, random_state=43)\n",
    "for train_index, test_index in tqdm(list(kfold.split(X,y))):\n",
    "    X_train,y_train = X.iloc[train_index], y.iloc[train_index]\n",
    "    X_test, y_test = X.iloc[test_index], y.iloc[test_index]\n",
    "    w_train, w_test  = df.weight.iloc[train_index].values, df.weight.iloc[test_index].values\n",
    "    train_dataset = xgb.DMatrix(X_train, label = y_train, weight=w_train)\n",
    "    test_dataset = xgb.DMatrix(X_test, label = y_test,weight=w_test)\n",
    "    model = xgb.train(parameters, train_dataset, evals=[(train_dataset,'train'), (test_dataset, 'test')],early_stopping_rounds=100,\n",
    "                      verbose_eval=10, num_boost_round=10000, feval = feval,maximize=True)\n",
    "    auc.append(model.best_score)\n",
    "    predictions.append(model.predict(pred_dataset))\n",
    "    models.append(model)"
   ]
  },
  {
   "cell_type": "code",
   "execution_count": 94,
   "metadata": {},
   "outputs": [],
   "source": [
    "import pickle\n",
    "with open('model_final','wb+') as f:\n",
    "    pickle.dump(models,f )"
   ]
  },
  {
   "cell_type": "code",
   "execution_count": 117,
   "metadata": {},
   "outputs": [],
   "source": [
    "# y_pred = np.mean(predictions,0)\n",
    "# pd.DataFrame(data={\"prediction\": y_pred}, index=X_pred.index).to_csv(\n",
    "#     \"submission_xgboost_final.csv\", index_label=utils.ID_COLUMN)"
   ]
  },
  {
   "cell_type": "code",
   "execution_count": 119,
   "metadata": {},
   "outputs": [],
   "source": [
    "# import pickle\n",
    "# with open('model_final','rb') as f:\n",
    "#     models = pickle.load(f )"
   ]
  },
  {
   "cell_type": "code",
   "execution_count": 122,
   "metadata": {},
   "outputs": [],
   "source": [
    "private_predictions = []\n",
    "for model in models:\n",
    "    private_predictions.append(model.predict(private_dataset))\n",
    "y_private = np.mean(private_predictions,0)"
   ]
  },
  {
   "cell_type": "code",
   "execution_count": 123,
   "metadata": {},
   "outputs": [],
   "source": [
    "pd.DataFrame(data={\"prediction\": y_private}, index=X_private.index).to_csv(\n",
    "    \"submission_xgboost_private.csv\", index_label=utils.ID_COLUMN)"
   ]
  },
  {
   "cell_type": "code",
   "execution_count": 124,
   "metadata": {},
   "outputs": [
    {
     "data": {
      "text/plain": [
       "(1452188, 127)"
      ]
     },
     "execution_count": 124,
     "metadata": {},
     "output_type": "execute_result"
    }
   ],
   "source": [
    "X_private.shape"
   ]
  },
  {
   "cell_type": "code",
   "execution_count": 126,
   "metadata": {},
   "outputs": [
    {
     "data": {
      "text/plain": [
       "(array([ 84920.,  21781.,  27050.,  47243.,  95563., 185391., 249604.,\n",
       "        222270., 223467., 294899.]),\n",
       " array([5.6924888e-05, 9.9931978e-02, 1.9980703e-01, 2.9968208e-01,\n",
       "        3.9955711e-01, 4.9943218e-01, 5.9930724e-01, 6.9918227e-01,\n",
       "        7.9905730e-01, 8.9893240e-01, 9.9880743e-01], dtype=float32),\n",
       " <a list of 10 Patch objects>)"
      ]
     },
     "execution_count": 126,
     "metadata": {},
     "output_type": "execute_result"
    },
    {
     "data": {
      "image/png": "[encoded data removed]",
      "text/plain": [
       "<Figure size 432x288 with 1 Axes>"
      ]
     },
     "metadata": {
      "needs_background": "light"
     },
     "output_type": "display_data"
    }
   ],
   "source": [
    "# plt.hist(y_private)"
   ]
  },
  {
   "cell_type": "code",
   "execution_count": 127,
   "metadata": {},
   "outputs": [
    {
     "data": {
      "text/plain": [
       "(array([ 42187.,  10853.,  13204.,  23620.,  47948.,  93344., 124831.,\n",
       "        111196., 111405., 147507.]),\n",
       " array([1.0431225e-04, 9.9999756e-02, 1.9989519e-01, 2.9979062e-01,\n",
       "        3.9968607e-01, 4.9958152e-01, 5.9947693e-01, 6.9937241e-01,\n",
       "        7.9926783e-01, 8.9916331e-01, 9.9905872e-01], dtype=float32),\n",
       " <a list of 10 Patch objects>)"
      ]
     },
     "execution_count": 127,
     "metadata": {},
     "output_type": "execute_result"
    },
    {
     "data": {
      "image/png": "[encoded data removed]",
      "text/plain": [
       "<Figure size 432x288 with 1 Axes>"
      ]
     },
     "metadata": {
      "needs_background": "light"
     },
     "output_type": "display_data"
    }
   ],
   "source": [
    "# plt.hist(y_pred)"
   ]
  },
  {
   "cell_type": "code",
   "execution_count": 129,
   "metadata": {},
   "outputs": [
    {
     "data": {
      "text/plain": [
       "((726095,), (1452188,))"
      ]
     },
     "execution_count": 129,
     "metadata": {},
     "output_type": "execute_result"
    }
   ],
   "source": [
    "# y_pred.shape,y_private.shape"
   ]
  },
  {
   "cell_type": "code",
   "execution_count": null,
   "metadata": {},
   "outputs": [],
   "source": []
  }
 ],
 "metadata": {
  "kernelspec": {
   "display_name": "Python 3",
   "language": "python",
   "name": "python3"
  },
  "language_info": {
   "codemirror_mode": {
    "name": "ipython",
    "version": 3
   },
   "file_extension": ".py",
   "mimetype": "text/x-python",
   "name": "python",
   "nbconvert_exporter": "python",
   "pygments_lexer": "ipython3",
   "version": "3.5.2"
  }
 },
 "nbformat": 4,
 "nbformat_minor": 2
}
